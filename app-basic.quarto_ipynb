{
  "cells": [
    {
      "cell_type": "markdown",
      "metadata": {},
      "source": [
        "---\n",
        "title: Basic App\n",
        "format: html\n",
        "filters:\n",
        "  - shinylive\n",
        "jupyter: python3\n",
        "draft: true\n",
        "---"
      ],
      "id": "22cf4846"
    },
    {
      "cell_type": "code",
      "metadata": {},
      "source": [
        "#| echo: false\n",
        "#| output: asis\n",
        "import sys\n",
        "sys.path.append('.')\n",
        "from helpers.helpers import *\n",
        "\n",
        "include_shiny_folder(\"apps/basic-app\")"
      ],
      "id": "96b42ed2",
      "execution_count": null,
      "outputs": []
    }
  ],
  "metadata": {
    "kernelspec": {
      "name": "python3",
      "language": "python",
      "display_name": "Python 3 (ipykernel)",
      "path": "/home/oren/.local/share/jupyter/kernels/python3"
    }
  },
  "nbformat": 4,
  "nbformat_minor": 5
}