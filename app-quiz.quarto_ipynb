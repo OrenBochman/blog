{
  "cells": [
    {
      "cell_type": "markdown",
      "metadata": {},
      "source": [
        "---\n",
        "title: Quiz App\n",
        "format: html\n",
        "filters:\n",
        "  - shinylive\n",
        "jupyter: python3\n",
        "draft: true\n",
        "---"
      ],
      "id": "d7555361"
    },
    {
      "cell_type": "code",
      "metadata": {},
      "source": [
        "#| echo: false\n",
        "#| output: asis\n",
        "import sys\n",
        "sys.path.append('.')\n",
        "from helpers.helpers import multiple_choice_app, Quiz\n",
        "\n",
        "questions = Quiz(\n",
        "    {\n",
        "        \"What ui input is used for plots?\": {\n",
        "            \"choices\": [\"ui.input_plot\", \"ui.plot_input\", \"ui.plotInput\"],\n",
        "            \"answer\": \"ui.input_plot\",\n",
        "        },\n",
        "        \"How do you remove a reacitve link??\": {\n",
        "            \"choices\": [\"reactive.isolate\", \"req\", \"reactive.Effect\"],\n",
        "            \"answer\": \"reactive.isolate\",\n",
        "        },\n",
        "        \"What should you use to save an image of a plot to disk?\": {\n",
        "            \"choices\": [\"reactive.Calc\", \"@ui.output_plot\", \"reactive.Effect\"],\n",
        "            \"answer\": \"reactive.Effect\",\n",
        "        },\n",
        "    }\n",
        ")\n",
        "\n",
        "multiple_choice_app(questions)"
      ],
      "id": "a5a20f8a",
      "execution_count": null,
      "outputs": []
    }
  ],
  "metadata": {
    "kernelspec": {
      "name": "python3",
      "language": "python",
      "display_name": "Python 3 (ipykernel)",
      "path": "/home/oren/.local/share/jupyter/kernels/python3"
    }
  },
  "nbformat": 4,
  "nbformat_minor": 5
}