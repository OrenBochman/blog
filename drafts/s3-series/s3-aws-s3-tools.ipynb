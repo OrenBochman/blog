{
  "cells": [
    {
      "cell_type": "raw",
      "metadata": {},
      "source": [
        "---\n",
        "title: 'S3 with AWS S3 Tools'\n",
        "draft: true\n",
        "categories:\n",
        "    - s3\n",
        "      aws-s3-tools\n",
        "date: 2021-10-10\n",
        "---"
      ],
      "id": "6dc81581"
    },
    {
      "cell_type": "markdown",
      "metadata": {},
      "source": [
        "# aws-s3-tools\n",
        "\n",
        "## install the package\n",
        "\n",
        "```{{zsh}}\n",
        "pip install aws-s3-tools[progress] -U\n",
        "```\n",
        "\n",
        "```\n",
        "aws_auth = {\n",
        "    'region_name': 'REGION',\n",
        "    'aws_access_key_id': 'ACCESS_KEY',\n",
        "    'aws_secret_access_key': 'SECRET_KEY',\n",
        "    'aws_session_token': 'SESSION_TOKEN',\n",
        "    'profile_name': 'PROFILE_NAME'\n",
        "}\n",
        "```\n",
        "\n",
        "## object exists\n"
      ],
      "id": "498df74b"
    },
    {
      "cell_type": "code",
      "metadata": {},
      "source": [
        "from s3_tools import object_exists\n",
        "\n",
        "if object_exists(\"my-bucket\", \"s3-prefix/object.data\"):\n",
        "    # Your code goes here\n",
        "    print(\"Object  found\")\n",
        "else:\n",
        "    print(\"Object not found\")"
      ],
      "id": "037524e5",
      "execution_count": null,
      "outputs": []
    },
    {
      "cell_type": "markdown",
      "metadata": {},
      "source": [
        "## upload \n"
      ],
      "id": "995c90d9"
    },
    {
      "cell_type": "code",
      "metadata": {},
      "source": [
        "from s3_tools import upload_folder_to_prefix\n",
        "\n",
        "result = upload_folder_to_prefix(\n",
        "    bucket='dlite-tools',\n",
        "    prefix='aws-s3-tools',\n",
        "    search_str='*.py',\n",
        "    threads=2,\n",
        "    folder='s3_tools',\n",
        "    show_progress=True\n",
        ")"
      ],
      "id": "b98d8e29",
      "execution_count": null,
      "outputs": []
    }
  ],
  "metadata": {
    "kernelspec": {
      "name": "python3",
      "language": "python",
      "display_name": "Python 3 (ipykernel)"
    }
  },
  "nbformat": 4,
  "nbformat_minor": 5
}