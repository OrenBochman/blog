{
  "cells": [
    {
      "cell_type": "raw",
      "metadata": {},
      "source": [
        "---\n",
        "title: 'S3 with s3cmd'\n",
        "categories: [s3, aws-s3-tools]\n",
        "draft: true\n",
        "---"
      ],
      "id": "e0af2d06"
    },
    {
      "cell_type": "markdown",
      "metadata": {},
      "source": [
        "# S3cmd : Command Line S3 Client and Backup for Linux and Mac\n",
        "\n",
        "[S3cmd](https://s3tools.org/s3cmd) is free command line tool\n",
        "\n",
        "\n",
        "## install the package\n",
        "\n",
        "\n",
        "```{zsh}\n",
        "#pip install aws-s3-tools -U\n",
        "pip install aws-s3-tools[progress] -U\n",
        "```\n",
        "\n",
        "\n",
        "```\n",
        "aws_auth = {\n",
        "    'region_name': 'REGION',\n",
        "    'aws_access_key_id': 'ACCESS_KEY',\n",
        "    'aws_secret_access_key': 'SECRET_KEY',\n",
        "    'aws_session_token': 'SESSION_TOKEN',\n",
        "    'profile_name': 'PROFILE_NAME'\n",
        "}\n",
        "```\n",
        "\n",
        "## object exists\n"
      ],
      "id": "2f20789a"
    },
    {
      "cell_type": "code",
      "metadata": {},
      "source": [
        "from s3_tools import object_exists\n",
        "\n",
        "if object_exists(\"my-bucket\", \"s3-prefix/object.data\"):\n",
        "    # Your code goes here\n",
        "else:\n",
        "    print(\"Object not found\")"
      ],
      "id": "ec5edfea",
      "execution_count": null,
      "outputs": []
    },
    {
      "cell_type": "markdown",
      "metadata": {},
      "source": [
        "## upload \n"
      ],
      "id": "223c858e"
    },
    {
      "cell_type": "code",
      "metadata": {},
      "source": [
        "from s3_tools import upload_folder_to_prefix\n",
        "\n",
        "result = upload_folder_to_prefix(\n",
        "    bucket='dlite-tools',\n",
        "    prefix='aws-s3-tools',\n",
        "    search_str='*.py',\n",
        "    threads=2,\n",
        "    folder='s3_tools',\n",
        "    show_progress=True\n",
        ")"
      ],
      "id": "e472fc69",
      "execution_count": null,
      "outputs": []
    }
  ],
  "metadata": {
    "kernelspec": {
      "name": "python3",
      "language": "python",
      "display_name": "Python 3 (ipykernel)"
    }
  },
  "nbformat": 4,
  "nbformat_minor": 5
}