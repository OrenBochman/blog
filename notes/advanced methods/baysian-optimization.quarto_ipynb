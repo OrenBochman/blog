{
  "cells": [
    {
      "cell_type": "markdown",
      "metadata": {},
      "source": [
        "---\n",
        "title: Bayesian Optimization\n",
        "date: 2024-12-04\n",
        "execute:\n",
        "  freeze: true  # never re-render during project render\n",
        "\n",
        "---\n",
        "\n",
        "\n",
        "Bayesian Optimization is a powerful strategy for optimizing complex, expensive, or black-box functions, particularly prevalent in the field of machine learning for tasks like hyperparameter tuning. Unlike traditional optimization methods that may require numerous function evaluations, Bayesian Optimization is designed to find the global optimum with as few evaluations as possible, making it especially useful when each function evaluation is costly in terms of time or resources.\n",
        "\n",
        "[A Tutorial on Bayesian Optimization](https://arxiv.org/abs/1807.02811)\n",
        "\n",
        "## Popular Libraries and Tools\n",
        "\n",
        "- [Scikit-Optimize](https://scikit-optimize.github.io/stable/) - A simple and efficient library for sequential model-based optimization.\n",
        "- [Optuna](https://optuna.org/) - An automatic hyperparameter optimization software framework, particularly designed for machine learning.\n",
        "- [BayesianOptimization](https://github.com/bayesian-optimization/BayesianOptimization) - A Python library for Bayesian optimization with a focus on ease of use.\n",
        "- [GPyOpt](https://sheffieldml.github.io/GPyOpt/) - A Bayesian Optimization framework using Gaussian processes, built on top of GPy.\n",
        "\n",
        "\n",
        "\n",
        "## Example: Hyperparameter Tuning with Scikit-Optimize\n",
        "\n",
        "Here's a brief example of how Bayesian Optimization can be used to tune hyperparameters of a machine learning model using the scikit-optimize library\n"
      ],
      "id": "3253d594"
    },
    {
      "cell_type": "code",
      "metadata": {},
      "source": [
        "from skopt import BayesSearchCV\n",
        "from sklearn.ensemble import RandomForestClassifier\n",
        "from sklearn.datasets import load_iris\n",
        "from sklearn.model_selection import train_test_split\n",
        "\n",
        "# Load dataset\n",
        "X, y = load_iris(return_X_y=True)\n",
        "X_train, X_val, y_train, y_val = train_test_split(X, y, test_size=0.2, random_state=42)\n",
        "\n",
        "# Define the model\n",
        "rf = RandomForestClassifier()\n",
        "\n",
        "# Define the search space\n",
        "search_spaces = {\n",
        "    'n_estimators': (10, 200),\n",
        "    'max_depth': (1, 50),\n",
        "    'min_samples_split': (2, 20),\n",
        "    'min_samples_leaf': (1, 20),\n",
        "    'bootstrap': [True, False]\n",
        "}\n",
        "\n",
        "# Initialize BayesSearchCV\n",
        "opt = BayesSearchCV(\n",
        "    estimator=rf,\n",
        "    search_spaces=search_spaces,\n",
        "    n_iter=32,\n",
        "    scoring='accuracy',\n",
        "    cv=3,\n",
        "    random_state=42\n",
        ")\n",
        "\n",
        "# Perform the search\n",
        "opt.fit(X_train, y_train)\n",
        "\n",
        "# Best parameters\n",
        "print(\"Best Parameters:\", opt.best_params_)\n",
        "print(\"Best Score:\", opt.best_score_)"
      ],
      "id": "8d1a0fc6",
      "execution_count": null,
      "outputs": []
    },
    {
      "cell_type": "markdown",
      "metadata": {},
      "source": [
        "## Conclusion\n",
        "\n",
        "\n",
        "Bayesian Optimization offers an intelligent and efficient approach to optimizing functions that are expensive to evaluate, making it an invaluable tool in machine learning for tasks like hyperparameter tuning and model selection. By leveraging probabilistic models and strategic sampling through acquisition functions, it reduces the number of required evaluations, saving computational resources and time.\n"
      ],
      "id": "ed6c7c9f"
    }
  ],
  "metadata": {
    "kernelspec": {
      "name": "python3",
      "language": "python",
      "display_name": "Python 3 (ipykernel)",
      "path": "/home/oren/.local/share/jupyter/kernels/python3"
    }
  },
  "nbformat": 4,
  "nbformat_minor": 5
}