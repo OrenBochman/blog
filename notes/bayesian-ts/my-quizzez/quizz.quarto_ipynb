{
  "cells": [
    {
      "cell_type": "markdown",
      "metadata": {},
      "source": [
        "---\n",
        "title: \"Quiz App with ShinyLive\"\n",
        "format: html\n",
        "filters:\n",
        "  - shinylive\n",
        "\n",
        "---"
      ],
      "id": "1378d540"
    },
    {
      "cell_type": "code",
      "metadata": {},
      "source": [
        "questions = [\n",
        "    {\n",
        "        \"question\": \"What is the capital of France?\",\n",
        "        \"choices\": [\"Paris\", \"Rome\", \"Berlin\", \"Madrid\"],\n",
        "        \"answer\": \"Paris\"\n",
        "    },\n",
        "    {\n",
        "        \"question\": \"Which planet is closest to the sun?\",\n",
        "        \"choices\": [\"Venus\", \"Earth\", \"Mercury\", \"Mars\"],\n",
        "        \"answer\": \"Mercury\"\n",
        "    },\n",
        "    {\n",
        "        \"question\": \"What is the largest mammal?\",\n",
        "        \"choices\": [\"Elephant\", \"Blue Whale\", \"Giraffe\", \"Tiger\"],\n",
        "        \"answer\": \"Blue Whale\"\n",
        "    }\n",
        "]"
      ],
      "id": "bdebaed4",
      "execution_count": null,
      "outputs": []
    },
    {
      "cell_type": "markdown",
      "metadata": {},
      "source": [
        "```{shinylive-python}\n",
        "#| standalone: true\n",
        "import shiny\n",
        "from shiny import *\n",
        "\n",
        "app = shiny.App()\n",
        "\n",
        "@app.ui\n",
        "def ui():\n",
        "    return shiny.page_fluid(\n",
        "        shiny.h2(\"Quiz App\"),\n",
        "        shiny.ui_select_input(\"question\", \"Select a question:\", \n",
        "                              choices=[q['question'] for q in questions]),\n",
        "        shiny.ui_radio_buttons(\"answer\", \"Choose an answer:\", choices=[]),\n",
        "        shiny.ui_button(\"submit\", \"Submit Answer\"),\n",
        "        shiny.ui_output_text_verbatim(\"feedback\")\n",
        "    )\n",
        "\n",
        "@app.server\n",
        "def server(input: Inputs, output: Outputs, session: Session):\n",
        "    \n",
        "    @shiny.reactive.Effect\n",
        "    def update_choices():\n",
        "        selected_question = input.question()\n",
        "        if selected_question:\n",
        "            for q in questions:\n",
        "                if q[\"question\"] == selected_question:\n",
        "                    session.update_radio_buttons(\"answer\", choices=q[\"choices\"])\n",
        "                    break\n",
        "    \n",
        "    @output\n",
        "    @shiny.render.text\n",
        "    def feedback():\n",
        "        if input.answer() and input.submit():\n",
        "            selected_question = input.question()\n",
        "            selected_answer = input.answer()\n",
        "            correct_answer = next(q[\"answer\"] for q in questions if q[\"question\"] == selected_question)\n",
        "            if selected_answer == correct_answer:\n",
        "                return \"Correct!\"\n",
        "            else:\n",
        "                return f\"Incorrect! The correct answer was: {correct_answer}\"\n",
        "\n",
        "if __name__ == \"__main__\":\n",
        "    app.run()\n",
        "\n",
        "```"
      ],
      "id": "381db566"
    }
  ],
  "metadata": {
    "kernelspec": {
      "name": "python3",
      "language": "python",
      "display_name": "Python 3 (ipykernel)",
      "path": "/home/oren/.local/share/jupyter/kernels/python3"
    }
  },
  "nbformat": 4,
  "nbformat_minor": 5
}