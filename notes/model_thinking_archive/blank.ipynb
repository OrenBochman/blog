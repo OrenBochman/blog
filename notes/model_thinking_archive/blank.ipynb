{
  "cells": [
    {
      "cell_type": "raw",
      "metadata": {},
      "source": [
        "---\n",
        "draft: true\n",
        "title: mesa tests\n",
        "---"
      ],
      "id": "e1b37335"
    },
    {
      "cell_type": "markdown",
      "metadata": {},
      "source": [
        "So this is supposed to become a python Shiney app for the schelling model\n",
        "using mesa modeling environment.\n",
        "\n",
        "\n",
        "\n",
        "But I soon decided to just try to get the demo notebook from [here](https://github.com/projectmesa/mesa-examples/blob/main/examples/schelling/analysis.ipynb) running!\n",
        "\n",
        "\n",
        "## Schelling Segregation Model\n",
        "\n",
        "### Background\n",
        "\n",
        "The Schelling (1971) segregation model is a classic of agent-based modeling, demonstrating how agents following simple rules lead to the emergence of qualitatively different macro-level outcomes. Agents are randomly placed on a grid. There are two types of agents, one constituting the majority and the other the minority. All agents want a certain number (generally, 3) of their 8 surrounding neighbors to be of the same type in order for them to be happy. Unhappy agents will move to a random available grid space. While individual agents do not have a preference for a segregated outcome (e.g. they would be happy with 3 similar neighbors and 5 different ones), the aggregate outcome is nevertheless heavily segregated.\n",
        "\n",
        "## Implementation\n",
        "\n",
        "This is a demonstration of running a Mesa model in an IPython Notebook. The actual model and agent code are implemented in `model.py`, in the same directory as this notebook. \n",
        "\n",
        "Below, we will import the model class, instantiate it, run it, and plot the time series of the number of happy agents.\n",
        "\n",
        "```\n",
        "$ # This will install the \"mesa_models\" package\n",
        "!pip install -U -e git+https://github.com/projectmesa/mesa-examples#egg=mesa-models\n",
        "```\n"
      ],
      "id": "428a3190"
    },
    {
      "cell_type": "code",
      "metadata": {},
      "source": [
        "import matplotlib.pyplot as plt\n",
        "import mesa_models \n",
        "from mesa_models.schelling.model import Schelling   \n",
        "\n",
        "%matplotlib inline\n",
        "#model = Schelling(height=10, width=10, homophily=0.8, radius=0.2, density=3, minority_pc=0.2, seed=None)\n",
        "\n",
        "# this model crashes\n",
        "#model = Schelling(10, 10, 0.8, 0.2, 3)\n",
        "\n",
        "model = Schelling(height=10, width=10,homophily=3,density=0.8,minority_pc=0.2)\n",
        "\n",
        "while model.running and model.schedule.steps < 100:\n",
        "    model.step()\n",
        "\n",
        "print(model.schedule.steps)  # Show how many steps have actually run"
      ],
      "id": "4e746fe0",
      "execution_count": null,
      "outputs": []
    },
    {
      "cell_type": "code",
      "metadata": {},
      "source": [
        "model_out = model.datacollector.get_model_vars_dataframe()"
      ],
      "id": "c5ba2131",
      "execution_count": null,
      "outputs": []
    },
    {
      "cell_type": "code",
      "metadata": {},
      "source": [
        "model_out.head()"
      ],
      "id": "30844ff6",
      "execution_count": null,
      "outputs": []
    },
    {
      "cell_type": "markdown",
      "metadata": {},
      "source": [
        "```\n",
        "model_out.happy.plot()\n",
        "```\n"
      ],
      "id": "7fdd8a9c"
    },
    {
      "cell_type": "code",
      "metadata": {},
      "source": [
        "x_positions = model.datacollector.get_agent_vars_dataframe()\n"
      ],
      "id": "a5466a62",
      "execution_count": null,
      "outputs": []
    },
    {
      "cell_type": "code",
      "metadata": {},
      "source": [
        "x_positions.head()"
      ],
      "id": "e7fc8b7a",
      "execution_count": null,
      "outputs": []
    },
    {
      "cell_type": "markdown",
      "metadata": {},
      "source": [
        "## Effect of Homophily on segregation\n",
        "\n",
        "Now, we can do a parameter sweep to see how segregation changes with homophily.\n",
        "\n",
        "First, we create a function which takes a model instance and returns what fraction of agents are segregated -- that is, have no neighbors of the opposite type.\n"
      ],
      "id": "3312cb20"
    }
  ],
  "metadata": {
    "kernelspec": {
      "name": "python3",
      "language": "python",
      "display_name": "Python 3 (ipykernel)"
    }
  },
  "nbformat": 4,
  "nbformat_minor": 5
}