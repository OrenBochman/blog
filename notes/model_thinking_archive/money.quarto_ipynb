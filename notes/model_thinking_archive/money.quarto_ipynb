{
  "cells": [
    {
      "cell_type": "markdown",
      "metadata": {},
      "source": [
        "---\n",
        "draft: true\n",
        "title: mesa tests\n",
        "---\n",
        "\n",
        "\n",
        "So this is supposed to become a python Shiney app for the schelling model\n",
        "using mesa modeling environment.\n",
        "\n",
        "\n",
        "\n",
        "But I soon decided to just try to get the demo notebook from [here](https://github.com/projectmesa/mesa-examples/blob/main/examples/schelling/analysis.ipynb) running!\n",
        "\n",
        "```python\n",
        "#| label: installation\n",
        "#| eval: False\n",
        "\n",
        "# This will install or update the \"mese\" package\n",
        "!pip install --quiet --upgrade mesa \n",
        "# This will install the \"mesa_models\" package\n",
        "!pip install -U -e git+https://github.com/projectmesa/mesa-examples#egg=mesa-models\n",
        "```\n"
      ],
      "id": "bbc06bdf"
    },
    {
      "cell_type": "code",
      "metadata": {},
      "source": [
        "import mesa\n",
        "#| label: importing packages\n",
        "#| eval: True\n",
        "#| warning: false\n",
        "\n",
        "# Data visualization tools.\n",
        "import seaborn as sns\n",
        "\n",
        "# Has multi-dimensional arrays and matrices. Has a large collection of\n",
        "# mathematical functions to operate on these arrays.\n",
        "import numpy as np\n",
        "\n",
        "# Data manipulation and analysis.\n",
        "import pandas as pd"
      ],
      "id": "7ac089ce",
      "execution_count": null,
      "outputs": []
    },
    {
      "cell_type": "markdown",
      "metadata": {},
      "source": [
        "## Create The Agent\n"
      ],
      "id": "cd2fe3f2"
    },
    {
      "cell_type": "code",
      "metadata": {},
      "source": [
        "#| label: create agent\n",
        "class MoneyAgent(mesa.Agent):\n",
        "    \"\"\"An agent with fixed initial wealth.\"\"\"\n",
        "\n",
        "    def __init__(self, unique_id, model):\n",
        "        # Pass the parameters to the parent class.\n",
        "        super().__init__(unique_id, model)\n",
        "\n",
        "        # Create the agent's variable and set the initial values.\n",
        "        self.wealth = 1\n",
        "\n",
        "\n",
        "    def move(self):\n",
        "        possible_steps = self.model.grid.get_neighborhood(\n",
        "            self.pos,\n",
        "            moore=True,\n",
        "            include_center=False)\n",
        "        new_position = self.random.choice(possible_steps)\n",
        "        self.model.grid.move_agent(self, new_position)\n",
        "\n",
        "    def give_money(self):\n",
        "        cellmates = self.model.grid.get_cell_list_contents([self.pos])\n",
        "        if len(cellmates) > 1:\n",
        "            other = self.random.choice(cellmates)\n",
        "            other.wealth += 1\n",
        "            self.wealth -= 1\n",
        "\n",
        "\n",
        "    def step(self):\n",
        "        # The agent's step will go here.\n",
        "        if self.wealth > 0:\n",
        "            self.give_money()\n"
      ],
      "id": "create-agent",
      "execution_count": null,
      "outputs": []
    },
    {
      "cell_type": "markdown",
      "metadata": {},
      "source": [
        "## Create Model\n"
      ],
      "id": "256bd4f6"
    },
    {
      "cell_type": "code",
      "metadata": {},
      "source": [
        "#| label: create model\n",
        "\n",
        "def compute_gini(model):\n",
        "    agent_wealths = [agent.wealth for agent in model.schedule.agents]\n",
        "    x = sorted(agent_wealths)\n",
        "    N = model.num_agents\n",
        "    B = sum(xi * (N - i) for i, xi in enumerate(x)) / (N * sum(x))\n",
        "    return 1 + (1 / N) - 2 * B\n",
        "\n",
        "\n",
        "class MoneyModel(mesa.Model):\n",
        "    \"\"\"A model with some number of agents.\"\"\"\n",
        "\n",
        "    def __init__(self, N, width, height):\n",
        "        super().__init__()\n",
        "        self.num_agents = N\n",
        "        # create a grid\n",
        "        self.grid = mesa.space.MultiGrid(width, height, True)\n",
        "        # Create scheduler and assign it to the model\n",
        "        self.schedule = mesa.time.RandomActivation(self)\n",
        "\n",
        "        # Create agents\n",
        "        for i in range(self.num_agents):\n",
        "            a = MoneyAgent(i, self)            \n",
        "            # Add the agent to the scheduler\n",
        "            self.schedule.add(a)\n",
        "            # Add the agent to a random grid cell\n",
        "            x = self.random.randrange(self.grid.width)\n",
        "            y = self.random.randrange(self.grid.height)\n",
        "            self.grid.place_agent(a, (x, y))\n",
        "        \n",
        "        self.datacollector = mesa.DataCollector(\n",
        "            model_reporters={\"Gini\": compute_gini}, agent_reporters={\"Wealth\": \"wealth\"}\n",
        "        )\n",
        "\n",
        "    def step(self):\n",
        "        \"\"\"Advance the model by one step.\"\"\"\n",
        "\n",
        "        # The model's step will go here for now this will call the step method of each agent and print the agent's unique_id\n",
        "        self.datacollector.collect(self)\n",
        "        self.schedule.step()\n"
      ],
      "id": "create-model",
      "execution_count": null,
      "outputs": []
    },
    {
      "cell_type": "markdown",
      "metadata": {},
      "source": [
        "## Running the Model\n"
      ],
      "id": "796e9ec7"
    },
    {
      "cell_type": "code",
      "metadata": {},
      "source": [
        "#from money_model import MoneyModel\n",
        "\n",
        "model = MoneyModel(100, 10, 10)\n",
        "for i in range(20):\n",
        "    model.step()\n"
      ],
      "id": "36a29a84",
      "execution_count": null,
      "outputs": []
    },
    {
      "cell_type": "code",
      "metadata": {},
      "source": [
        "agent_wealth = [a.wealth for a in model.schedule.agents]\n",
        "# Create a histogram with seaborn\n",
        "g = sns.histplot(agent_wealth, discrete=True)\n",
        "g.set(\n",
        "    title=\"Wealth distribution\", xlabel=\"Wealth\", ylabel=\"Number of agents\"\n",
        ");  # The semicolon is just to avoid printing the object representation"
      ],
      "id": "eb4e4c56",
      "execution_count": null,
      "outputs": []
    },
    {
      "cell_type": "code",
      "metadata": {},
      "source": [
        "all_wealth = []\n",
        "# This runs the model 100 times, each model executing 10 steps.\n",
        "for j in range(100):\n",
        "    # Run the model\n",
        "    model = MoneyModel(100, 10, 10)\n",
        "    for i in range(10):\n",
        "        model.step()\n",
        "\n",
        "    # Store the results\n",
        "    for agent in model.schedule.agents:\n",
        "        all_wealth.append(agent.wealth)\n",
        "\n",
        "# Use seaborn\n",
        "g = sns.histplot(all_wealth, discrete=True)\n",
        "g.set(title=\"Wealth distribution\", xlabel=\"Wealth\", ylabel=\"Number of agents\");"
      ],
      "id": "10436ab8",
      "execution_count": null,
      "outputs": []
    },
    {
      "cell_type": "code",
      "metadata": {},
      "source": [
        "agent_counts = np.zeros((model.grid.width, model.grid.height))\n",
        "for cell_content, (x, y) in model.grid.coord_iter():\n",
        "    agent_count = len(cell_content)\n",
        "    agent_counts[x][y] = agent_count\n",
        "# Plot using seaborn, with a size of 5x5\n",
        "g = sns.heatmap(agent_counts, cmap=\"viridis\", annot=True, cbar=False, square=True)\n",
        "g.figure.set_size_inches(4, 4)\n",
        "g.set(title=\"Number of agents on each cell of the grid\");"
      ],
      "id": "3b73bf73",
      "execution_count": null,
      "outputs": []
    },
    {
      "cell_type": "code",
      "metadata": {},
      "source": [
        "model = MoneyModel(100, 10, 10)\n",
        "for i in range(100):\n",
        "    model.step()"
      ],
      "id": "fc2ad687",
      "execution_count": null,
      "outputs": []
    },
    {
      "cell_type": "code",
      "metadata": {},
      "source": [
        "gini = model.datacollector.get_model_vars_dataframe()\n",
        "# Plot the Gini coefficient over time\n",
        "g = sns.lineplot(data=gini)\n",
        "g.set(title=\"Gini Coefficient over Time\", ylabel=\"Gini Coefficient\");"
      ],
      "id": "f360d9c2",
      "execution_count": null,
      "outputs": []
    },
    {
      "cell_type": "code",
      "metadata": {},
      "source": [
        "agent_wealth = model.datacollector.get_agent_vars_dataframe()\n",
        "agent_wealth.head()"
      ],
      "id": "14f026d3",
      "execution_count": null,
      "outputs": []
    },
    {
      "cell_type": "code",
      "metadata": {},
      "source": [
        "last_step = agent_wealth.index.get_level_values(\"Step\").max()\n",
        "end_wealth = agent_wealth.xs(last_step, level=\"Step\")[\"Wealth\"]\n",
        "# Create a histogram of wealth at the last step\n",
        "g = sns.histplot(end_wealth, discrete=True)\n",
        "g.set(\n",
        "    title=\"Distribution of wealth at the end of simulation\",\n",
        "    xlabel=\"Wealth\",\n",
        "    ylabel=\"Number of agents\",\n",
        ");"
      ],
      "id": "3ffd9431",
      "execution_count": null,
      "outputs": []
    },
    {
      "cell_type": "code",
      "metadata": {},
      "source": [
        "agent_list = [3, 14, 25]\n",
        "\n",
        "# Get the wealth of multiple agents over time\n",
        "multiple_agents_wealth = agent_wealth[\n",
        "    agent_wealth.index.get_level_values(\"AgentID\").isin(agent_list)\n",
        "]\n",
        "# Plot the wealth of multiple agents over time\n",
        "g = sns.lineplot(data=multiple_agents_wealth, x=\"Step\", y=\"Wealth\", hue=\"AgentID\")\n",
        "g.set(title=\"Wealth of agents 3, 14 and 25 over time\");"
      ],
      "id": "9cf5e7dc",
      "execution_count": null,
      "outputs": []
    },
    {
      "cell_type": "markdown",
      "metadata": {},
      "source": [
        "We can also plot the average of all agents, with a 95% confidence interval for that average.\n"
      ],
      "id": "68b234a9"
    },
    {
      "cell_type": "code",
      "metadata": {},
      "source": [
        "# Transform the data to a long format\n",
        "agent_wealth_long = agent_wealth.T.unstack().reset_index()\n",
        "agent_wealth_long.columns = [\"Step\", \"AgentID\", \"Variable\", \"Value\"]\n",
        "agent_wealth_long.head(3)\n",
        "\n",
        "# Plot the average wealth over time\n",
        "g = sns.lineplot(data=agent_wealth_long, x=\"Step\", y=\"Value\", errorbar=(\"ci\", 95))\n",
        "g.set(title=\"Average wealth over time\")"
      ],
      "id": "65515136",
      "execution_count": null,
      "outputs": []
    },
    {
      "cell_type": "markdown",
      "metadata": {},
      "source": [
        "Which is exactly 1, as expected in this model, since each agent starts with one wealth unit, and each agent gives one wealth unit to another agent at each step.\n",
        "\n",
        "\n",
        "You can also use pandas to export the data to a CSV (comma separated value), which can be opened by any common spreadsheet application or opened by pandas.\n",
        "\n",
        "If you do not specify a file path, the file will be saved in the local directory. After you run the code below you will see two files appear (model_data.csv and agent_data.csv)\n"
      ],
      "id": "e11a4875"
    },
    {
      "cell_type": "code",
      "metadata": {},
      "source": [
        "#| label: batch_run\n",
        "\n",
        "# save the model data (stored in the pandas gini object) to CSV\n",
        "gini.to_csv(\"model_data.csv\")\n",
        "\n",
        "# save the agent data (stored in the pandas agent_wealth object) to CSV\n",
        "agent_wealth.to_csv(\"agent_data.csv\")"
      ],
      "id": "batch_run",
      "execution_count": null,
      "outputs": []
    },
    {
      "cell_type": "markdown",
      "metadata": {},
      "source": [
        "## designing a Shineylive app\n",
        "\n",
        "the MVP app should have:\n",
        "\n",
        "1. [] a UI with controls for the x,y, n - number of steps, \n",
        "2. a simulate button\n",
        "3. a panel with with the seaborn chart for map\n",
        "4. \n",
        "3. a panel with the graph of the wealth distribution results tab with\n",
        "3. a panel with the wealth over time of top middle and poorest agents \n",
        "\n",
        "\n",
        "```{shinylive-python}\n",
        "#| standalone: true\n",
        "#| \n",
        "from shiny import App, render, ui\n",
        "import mesa\n",
        "\n",
        "app_ui = ui.page_fluid(\n",
        "    ui.input_slider(\"n\", \"n\", 0, 100, 100),\n",
        "    ui.input_slider(\"x\", \"y\", 0, 10, 10),\n",
        "    ui.input_slider(\"y\", \"y\", 0, 10, 10),\n",
        "    ui.output_text_verbatim(\"txt\"),\n",
        ")\n",
        "\n",
        "def server(input, output, session):\n",
        "    @output\n",
        "    @render.text    \n",
        "    def txt():\n",
        "        model = MoneyModel(n, x, y)\n",
        "        for i in range(100):\n",
        "            model.step()\n",
        "\n",
        "        last_step = agent_wealth.index.get_level_values(\"Step\").max()\n",
        "        end_wealth = agent_wealth.xs(last_step, level=\"Step\")[\"Wealth\"]\n",
        "        return f\"the final wealth is {end_wealth}\"\n",
        "        # Create a histogram of wealth at the last step\n",
        "        #g = sns.histplot(end_wealth, discrete=True)\n",
        "        #g.set(\n",
        "        #    title=\"Distribution of wealth at the end of simulation\",\n",
        "        #    xlabel=\"Wealth\",\n",
        "        #    ylabel=\"Numeylive ber of agents\",\n",
        "        #);\n",
        "\n",
        "app = App(app_ui, server)\n",
        "\n",
        "```"
      ],
      "id": "1f769619"
    }
  ],
  "metadata": {
    "kernelspec": {
      "name": "python3",
      "language": "python",
      "display_name": "Python 3 (ipykernel)",
      "path": "/home/oren/.local/share/jupyter/kernels/python3"
    }
  },
  "nbformat": 4,
  "nbformat_minor": 5
}