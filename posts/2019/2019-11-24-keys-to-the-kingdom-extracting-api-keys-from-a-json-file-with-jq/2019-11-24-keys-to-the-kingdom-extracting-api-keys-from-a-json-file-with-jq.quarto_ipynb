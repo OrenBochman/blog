{
  "cells": [
    {
      "cell_type": "markdown",
      "metadata": {},
      "source": [
        "---\n",
        "date: 2019-11-24\n",
        "title: Docker for data science\n",
        "description: \"Post description\"\n",
        "categories: [docker, conternerization, data analysis]\n",
        "image: docker.png\n",
        "---\n",
        "\n",
        "\n",
        "# Docker stuff\n",
        "\n",
        "Docker lets you install stuff in a way that avoids dependency conflicts\n",
        "\n",
        "## Jupyter Notebook\n",
        "\n",
        "\n",
        "```{bash}\n",
        "docker run -p 10000:8888 jupyter/scipy-notebook:b418b67c225b\n",
        "docker run -it --rm -p 10000:8888 -v \"${PWD}\":/home/jovyan/work jupyter/datascience-notebook:b418b67c225b\n",
        "```\n",
        "\n",
        "\n",
        "## Airflow\n",
        "\n",
        "\n",
        "```{bash}\n",
        "\n",
        "# Check docker memory if >=4 GB\n",
        "docker run --rm \"debian:buster-slim\" bash -c \n",
        "'numfmt --to iec $(echo $(($(getconf _PHYS_PAGES) * $(getconf PAGE_SIZE))))'\n",
        "\n",
        "# Getting airflow compose file\n",
        "curl -LfO 'https://airflow.apache.org/docs/apache-airflow/2.2.3/docker-compose.yaml'\n",
        "\n",
        "# build\n",
        "docker-compose up airflow-init\n",
        "\n",
        "# start\n",
        "docker-compose up\n",
        "```"
      ],
      "id": "e91c932e"
    }
  ],
  "metadata": {
    "kernelspec": {
      "name": "python3",
      "language": "python",
      "display_name": "Python 3 (ipykernel)",
      "path": "/home/oren/.local/share/jupyter/kernels/python3"
    }
  },
  "nbformat": 4,
  "nbformat_minor": 5
}