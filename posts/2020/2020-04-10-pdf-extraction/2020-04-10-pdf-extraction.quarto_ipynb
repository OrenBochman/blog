{
  "cells": [
    {
      "cell_type": "markdown",
      "metadata": {},
      "source": [
        "---\n",
        "date: 2022-04-10\n",
        "lastmod: 2023-01-21\n",
        "title: PDF extraction hacks\n",
        "draft: true\n",
        "categories: [pdf]\n",
        "\n",
        "---\n",
        "\n",
        "\n",
        "# PDF extraction hacks\n"
      ],
      "id": "fcef9d3f"
    },
    {
      "cell_type": "code",
      "metadata": {},
      "source": [
        "#| label: pdf-2-png\n",
        "#| fig-cap: convert pdf to png\n",
        "from pdf2image import convert_from_path\n",
        "pdf_path='in.pdf'\n",
        "\n",
        "# Store Pdf with convert_from_path function\n",
        "images = convert_from_path(pdf_path)\n",
        "for i in range(len(images)):\n",
        "    # Save pages as images in the pdf\n",
        "    images[i].save('page'+ str(i) +'.png', 'PNG')"
      ],
      "id": "pdf-2-png",
      "execution_count": null,
      "outputs": []
    }
  ],
  "metadata": {
    "kernelspec": {
      "name": "python3",
      "language": "python",
      "display_name": "Python 3 (ipykernel)",
      "path": "/home/oren/.local/share/jupyter/kernels/python3"
    }
  },
  "nbformat": 4,
  "nbformat_minor": 5
}