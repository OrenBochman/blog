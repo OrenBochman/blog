{
  "cells": [
    {
      "cell_type": "markdown",
      "metadata": {},
      "source": [
        "---\n",
        "date: 2021-07-01\n",
        "title: json-ld\n",
        "subtitle: metadata format for linked data\n",
        "categories: [information science]\n",
        "---\n",
        "\n",
        "\n",
        "I've been excited about JSON-LD, when it came out as it offered a much cleaner way to do SEO. However It dawned on me later that it is also a geat format to worked with linked data.\n",
        "\n",
        "1. it uses a special `@id` property to assign a unique URL to each resource in a JSON-LD document, giving every data item its own URL.\n",
        "1. it links data items together through the values of properties. For example, if you're describing a person, their \"colleague\" property can have another person's URL as its value, creating a web of interconnected data items.\n",
        "1. JSON-LD uses the `@context` property to map the terms used in the document to URLs, conforming data items to common global, organisational and departmental schemas.\n",
        "\n",
        "One of the best things about JSON-LD is how easy it is to work with. Developers already familiar with JSON syntax will love using it. And get this: JSON-LD is so popular that it's now embedded in almost half of all web pages. It's baffling why all organisations aren't using JSON-LD more widely to share data between their applications!\n",
        "\n",
        "So, whether you're publishing Data Products, creating RESTful applications or improving your website's SEO, JSON-LD is the way to go! Give it a try and let me know your thoughts in the comments below.\n"
      ],
      "id": "c0925e6d"
    },
    {
      "cell_type": "code",
      "metadata": {},
      "source": [
        "person = {\n",
        "  \"@context\": \"https://json-ld.org/contexts/person.jsonld\", # <1>\n",
        "  \"@type\": \"https://schema.org/Person\",                     # <2>\n",
        "  \"@id\": \"http://dbpedia.org/resource/John_Lennon\",         # <3>\n",
        "  \"https://schema.org/name\": \"John Lennon\",\n",
        "  \"born\": \"1940-10-09\",\n",
        "  \"spouse\": \"http://dbpedia.org/resource/Cynthia_Lennon\"    # <4>\n",
        "}"
      ],
      "id": "35fee650",
      "execution_count": null,
      "outputs": []
    },
    {
      "cell_type": "markdown",
      "metadata": {},
      "source": [
        "1. the `@context` refrences your model\n",
        "2. the `@type` is the type in your model\n",
        "3. the `@id` is the yrl for this item\n",
        "4. the url is how to reference external data say dbpedia.\n",
        "\n",
        "# python\n",
        "\n",
        "## Compacting \n"
      ],
      "id": "54ab04ca"
    },
    {
      "cell_type": "code",
      "metadata": {},
      "source": [
        "from pyld import jsonld\n",
        "import json\n",
        "doc = {\n",
        "    \"http://schema.org/name\": \"Manu Sporny\",\n",
        "    \"http://schema.org/url\": {\"@id\": \"http://manu.sporny.org/\"},\n",
        "    \"http://schema.org/image\": {\"@id\": \"http://manu.sporny.org/images/manu.png\"},\n",
        "    \"@type\": \"https://schema.org/Person\",\n",
        "}\n",
        "context = {\n",
        "    \"name\": \"http://schema.org/name\",\n",
        "    \"homepage\": {\"@id\": \"http://schema.org/url\", \"@type\": \"@id\"},\n",
        "    \"image\": {\"@id\": \"http://schema.org/image\", \"@type\": \"@id\"}\n",
        "}\n",
        "\n",
        "# compact a document according to a particular context\n",
        "\n",
        "# see: https://json-ld.org/spec/latest/json-ld/#compacted-document-form\n",
        "compacted = jsonld.compact(doc, context)\n",
        "print(json.dumps(compacted, indent=2))"
      ],
      "id": "62837129",
      "execution_count": null,
      "outputs": []
    },
    {
      "cell_type": "code",
      "metadata": {},
      "source": [
        "# compact using URLs\n",
        "#jsonld.compact('http://example.org/doc', 'http://example.org/context')"
      ],
      "id": "e8a4cef7",
      "execution_count": null,
      "outputs": []
    },
    {
      "cell_type": "markdown",
      "metadata": {},
      "source": [
        "## Expanding\n"
      ],
      "id": "db4beb19"
    },
    {
      "cell_type": "code",
      "metadata": {},
      "source": [
        "# expand a document, removing its context\n",
        "\n",
        "# see: https://json-ld.org/spec/latest/json-ld/#expanded-document-form\n",
        "expanded = jsonld.expand(compacted)\n",
        "print(json.dumps(expanded, indent=2))"
      ],
      "id": "0d14735f",
      "execution_count": null,
      "outputs": []
    },
    {
      "cell_type": "code",
      "metadata": {},
      "source": [
        "# expand using URLs\n",
        "\n",
        "# jsonld.expand('http://example.org/doc')"
      ],
      "id": "820eb5ba",
      "execution_count": null,
      "outputs": []
    },
    {
      "cell_type": "markdown",
      "metadata": {},
      "source": [
        "## Flattening\n"
      ],
      "id": "1e9528fa"
    },
    {
      "cell_type": "code",
      "metadata": {},
      "source": [
        "# flatten a document\n",
        "\n",
        "# see: https://json-ld.org/spec/latest/json-ld/#flattened-document-form\n",
        "flattened = jsonld.flatten(doc)\n",
        "\n",
        "# all deep-level trees flattened to the top-level\n",
        "print(json.dumps(flattened, indent=2))"
      ],
      "id": "70d9c795",
      "execution_count": null,
      "outputs": []
    },
    {
      "cell_type": "markdown",
      "metadata": {},
      "source": [
        "## Framing\n"
      ],
      "id": "2ddadc3e"
    },
    {
      "cell_type": "code",
      "metadata": {},
      "source": [
        "docf = {\n",
        "  \"@context\": {\n",
        "    \"@vocab\": \"http://example.org/\",\n",
        "    \"contains\": {\n",
        "      \"@type\": \"@id\"\n",
        "    }\n",
        "  },\n",
        "  \"@graph\": [\n",
        "    {\n",
        "      \"@id\": \"http://example.org/library\",\n",
        "      \"@type\": \"Library\",\n",
        "      \"location\": \"Athens\",\n",
        "      \"contains\": \"http://example.org/library/the-republic\"\n",
        "    },\n",
        "    {\n",
        "      \"@id\": \"http://example.org/library/the-republic\",\n",
        "      \"@type\": \"Book\",\n",
        "      \"creator\": \"Plato\",\n",
        "      \"title\": \"The Republic\",\n",
        "      \"contains\": \"http://example.org/library/the-republic#introduction\"\n",
        "    },\n",
        "    {\n",
        "      \"@id\": \"http://example.org/library/the-republic#introduction\",\n",
        "      \"@type\": \"Chapter\",\n",
        "      \"description\": \"An introductory chapter on The Republic.\",\n",
        "      \"title\": \"The Introduction\"\n",
        "    }\n",
        "  ]\n",
        "}\n",
        "\n",
        "frame = {\n",
        "  \"@context\": {\n",
        "    \"@vocab\": \"http://example.org/\"\n",
        "  },\n",
        "  \"location\": \"Athens\",\n",
        "  \"contains\": {\n",
        "    \"title\": \"The Republic\",\n",
        "    \"contains\": {\n",
        "      \"title\": \"The Introduction\"\n",
        "    }\n",
        "  }\n",
        "}\n",
        "\n",
        "# frame a document\n",
        "\n",
        "# see: https://json-ld.org/spec/latest/json-ld-framing/#introduction\n",
        "framed = jsonld.frame(docf, frame)\n",
        "print(json.dumps(framed, indent=2))\n",
        "\n",
        "# document transformed into a particular tree structure per the given frame"
      ],
      "id": "96e2151a",
      "execution_count": null,
      "outputs": []
    },
    {
      "cell_type": "markdown",
      "metadata": {},
      "source": [
        "## Normalization\n"
      ],
      "id": "98372f87"
    },
    {
      "cell_type": "code",
      "metadata": {},
      "source": [
        "# normalize a document using the RDF Dataset Normalization Algorithm\n",
        "\n",
        "# (URDNA2015), see: https://json-ld.github.io/normalization/spec/\n",
        "normalized = jsonld.normalize(\n",
        "    doc, {'algorithm': 'URDNA2015', 'format': 'application/n-quads'})\n",
        "\n",
        "# normalized is a string that is a canonical representation of the document\n",
        "\n",
        "# that can be used for hashing, comparison, etc.\n",
        "print(json.dumps(normalized, indent=2))"
      ],
      "id": "e185d6b7",
      "execution_count": null,
      "outputs": []
    },
    {
      "cell_type": "markdown",
      "metadata": {},
      "source": [
        "# Resources \n",
        "\n",
        "1. [json-ld](https://json-ld.org/)\n",
        "1. [schema.org](https://schema.org/)\n",
        "1. [ProductOntology](http://www.productontology.org/) \n",
        "2. [GoodRelations](http://www.heppnetz.de/projects/goodrelations/)\n",
        "3. [Wikidata](https://www.wikidata.org/wiki/Wikidata:Main_Page)\n",
        "1. https://schemantra.com/\n",
        "1. https://github.com/science-periodicals/jsonld-vis\n",
        "1. https://github.com/shamilnabiyev/schema-visualizer\n",
        "1. https://cloud.google.com/natural-language/\n"
      ],
      "id": "5149801f"
    }
  ],
  "metadata": {
    "kernelspec": {
      "name": "python3",
      "language": "python",
      "display_name": "Python 3 (ipykernel)",
      "path": "/home/oren/.local/share/jupyter/kernels/python3"
    }
  },
  "nbformat": 4,
  "nbformat_minor": 5
}