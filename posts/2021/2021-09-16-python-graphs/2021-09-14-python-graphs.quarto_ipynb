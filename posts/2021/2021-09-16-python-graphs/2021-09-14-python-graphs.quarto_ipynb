{
  "cells": [
    {
      "cell_type": "markdown",
      "metadata": {},
      "source": [
        "---\n",
        "title: Python Graphs\n",
        "date: 2021-08-29 \n",
        "date-modified: 2022-05-01\n",
        "description: Python Graph Cookbook\n",
        "image: chaotic-time-series.jpg\n",
        "categories:\n",
        "  - PPC\n",
        "  - code\n",
        "  - data science\n",
        "  - digital marketing\n",
        "  - quantitative marketing\n",
        "  - intelligence\n",
        "execute: \n",
        "  error: true\n",
        "---\n",
        "\n",
        "\n",
        "<!-- TODO: get these to work ASAP -->\n",
        "\n",
        "Some tricks collected from the SO and the web\n",
        "\n",
        "# Images\n",
        "\n",
        "## How to use an image as a background\n"
      ],
      "id": "892868ff"
    },
    {
      "cell_type": "code",
      "metadata": {},
      "source": [
        "import numpy as np\n",
        "import matplotlib.pyplot as plt\n",
        "np.random.seed(0)\n",
        "x = np.random.uniform(0.0,10.0,15)\n",
        "y = np.random.uniform(0.0,10.0,15)\n",
        "datafile = 'lena.png'\n",
        "img = plt.imread(datafile)\n",
        "plt.scatter(x,y,zorder=1)\n",
        "plt.imshow(img, zorder=0, extent=[0.5, 8.0, 1.0, 7.0])\n",
        "plt.show()"
      ],
      "id": "de6ccd09",
      "execution_count": null,
      "outputs": []
    },
    {
      "cell_type": "markdown",
      "metadata": {},
      "source": [
        "caveat This requires you know where the image corners need to be!\n",
        "\n",
        "sources:\n",
        "\n",
        "- [Plot over an image background in python](https://stackoverflow.com/questions/34458251/plot-over-an-image-background-in-python)\n",
        "- [Adding a background image to a plot with known corner coordinates](https://stackoverflow.com/questions/15160123/adding-a-background-image-to-a-plot-with-known-corner-coordinates)\n",
        "\n",
        "## Creating a pictogram\n"
      ],
      "id": "0ce600d7"
    },
    {
      "cell_type": "code",
      "metadata": {},
      "source": [
        "import matplotlib.pyplot as plt\n",
        "from pywaffle import Waffle\n",
        "data = {'Democratic': 48, 'Republican': 46, 'Libertarian': 3}\n",
        "fig = plt.figure(\n",
        "    FigureClass=Waffle, \n",
        "    rows=5, \n",
        "    values=data, \n",
        "    colors=[\"#232066\", \"#983D3D\", \"#DCB732\"],\n",
        "    legend={'loc': 'upper left', 'bbox_to_anchor': (1, 1)},\n",
        "    icons='child', \n",
        "    font_size=12, \n",
        "    icon_legend=True\n",
        ")\n",
        "plt.show()"
      ],
      "id": "090bc64c",
      "execution_count": null,
      "outputs": []
    },
    {
      "cell_type": "markdown",
      "metadata": {},
      "source": [
        "note: \n",
        "\n",
        "PyWaffle supports Font Awesome icons in the chart.\n",
        "plotly is an alternative.\n",
        "Sources:\n",
        "- [How to make a pictogram / icon chart?](https://stackoverflow.com/questions/52908119/how-to-make-a-pictogram-icon-chart)\n",
        "\n",
        "\n",
        "\n",
        "## Add outline around flagged items in a `plotly` candlestick chart\n"
      ],
      "id": "b1444fb5"
    },
    {
      "cell_type": "code",
      "metadata": {},
      "source": [
        "import matplotlib.pyplot as plt\n",
        "import numpy as np\n",
        "import matplotlib.patches as mpatches\n",
        "import pandas as pd\n",
        "import plotly.graph_objects as go\n",
        "\n",
        "df = pd.DataFrame({\"data_minu\": ['30/10 09:00','30/10 09:05','30/10,09:10','30/10 09:15','30/10 09:20','30/10 09:25','30/10 09:30','30/10 09:35','30/10 09:40','30/10 09:45'],\n",
        "                   \"Open\":['10','17','23','20','8','22','24','25','29','22'],\n",
        "                   \"High\":['21','27','25','29','24','27','28','32','29','25'],\n",
        "                   \"Low\":['6','12','18','9','5','8','24','18','15','10'],\n",
        "                   \"Close\":['17','24','22','10','21','25','26','30','18','10'],\n",
        "                   \"Flag\": ['0','1','1','1','0','1','1','1','0','0']})     \n",
        "\n",
        "tickvals = [k*0.5 for k in range(len(df))]\n",
        "ticktext = list(df[\"data_minu\"])\n",
        "\n",
        "fig = go.Figure(data=[go.Candlestick(x=tickvals,\n",
        "                open=df['Open'], high=df['High'],\n",
        "                low=df['Low'], close=df['Close'])\n",
        "                     ])  \n",
        "\n",
        "fig.update_layout(xaxis_rangeslider_visible=False, xaxis_tickvals=tickvals, xaxis_ticktext=ticktext) \n",
        "\n",
        "for k, flag in enumerate(df['Flag']):\n",
        "    if int(flag):\n",
        "        fig.add_shape(dict(type='rect',\n",
        "                          xref='x', yref='y',\n",
        "                          layer='below', \n",
        "                          x0=tickvals[k]-0.2, y0=float(df.loc[k, 'Low'])-1,\n",
        "                          x1=tickvals[k]+0.2, y1=float(df.loc[k, 'High'])+1,\n",
        "                          fillcolor='orange', #'RoyalBlue',\n",
        "                          opacity=0.35))\n",
        "\n",
        "fig.show()"
      ],
      "id": "04e998a0",
      "execution_count": null,
      "outputs": []
    },
    {
      "cell_type": "markdown",
      "metadata": {},
      "source": [
        "[source](https://community.plotly.com/t/plotly-candlestick-in-python-with-flag/31154/3)"
      ],
      "id": "ec65d511"
    }
  ],
  "metadata": {
    "kernelspec": {
      "name": "python3",
      "language": "python",
      "display_name": "Python 3 (ipykernel)",
      "path": "/home/oren/.local/share/jupyter/kernels/python3"
    }
  },
  "nbformat": 4,
  "nbformat_minor": 5
}