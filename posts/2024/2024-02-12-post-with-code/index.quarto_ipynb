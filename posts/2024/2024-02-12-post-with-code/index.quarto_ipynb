{
  "cells": [
    {
      "cell_type": "markdown",
      "metadata": {},
      "source": [
        "---\n",
        "title: \"Post With Code\"\n",
        "date: 2024-01-28\n",
        "date-modified: 2024-02-14\n",
        "categories: [news, code, analysis]\n",
        "image: image.jpg\n",
        "jupyter: python3\n",
        "---\n",
        "\n",
        "\n",
        "This is an obligatory post with executable code.\n"
      ],
      "id": "6cf26f97"
    },
    {
      "cell_type": "code",
      "metadata": {},
      "source": [
        "#| label: code-sum-of-all-knowledge\n",
        "1 + 1 # <1>"
      ],
      "id": "code-sum-of-all-knowledge",
      "execution_count": null,
      "outputs": []
    },
    {
      "cell_type": "markdown",
      "metadata": {},
      "source": [
        "1. this is an annotation\n",
        "\n",
        "and this is a figure with a caption\n"
      ],
      "id": "067a3dc0"
    },
    {
      "cell_type": "code",
      "metadata": {},
      "source": [
        "#| label: fig-polar\n",
        "#| fig-cap: A line plot on a polar axis\n",
        "\n",
        "import numpy as np\n",
        "import matplotlib.pyplot as plt\n",
        "\n",
        "r = np.arange(0, 2, 0.01)\n",
        "theta = 2 * np.pi * r\n",
        "fig, ax = plt.subplots(\n",
        "  subplot_kw = {'projection': 'polar'} \n",
        ")\n",
        "ax.plot(theta, r)\n",
        "ax.set_rticks([0.5, 1, 1.5, 2])\n",
        "ax.grid(True)\n",
        "plt.show()"
      ],
      "id": "fig-polar",
      "execution_count": null,
      "outputs": []
    },
    {
      "cell_type": "markdown",
      "metadata": {},
      "source": [
        "It's also useful to have a small sample of printing a table from a pandas data frame\n",
        "and a quick access to Pandas a fluent wrangling block \n"
      ],
      "id": "6e18c2bf"
    },
    {
      "cell_type": "code",
      "metadata": {},
      "source": [
        "#| label: tbl-salery-df-raw\n",
        "#| fig-cap: raw Salary DataSet\n",
        "#| warning: false\n",
        "import numpy as np                                          # <1>\n",
        "import pandas as pd                                         # <1>\n",
        "from itables import show\n",
        "import matplotlib.pyplot as plt                             # <1>\n",
        "import seaborn as sns                                       # <1>\n",
        "from sklearn.model_selection import train_test_split        # <1>\n",
        "import xgboost as xgb                                       # <1>\n",
        "\n",
        "df = (    pd.read_csv('./data/Salary Data.csv')             # <2> \n",
        "          .dropna()                   # <3>\n",
        "          .drop_duplicates()          # <4>\n",
        "          .assign(is_male=lambda x: x['Gender'].apply(lambda y: 1 if y == 'Male' else 0),               # <5>\n",
        "                  is_PhD=lambda x: x['Education Level'].apply(lambda y: 1 if y == 'PhD' else 0),        # <6>\n",
        "                  is_BA=lambda x: x['Education Level'].apply(lambda y: 1 if y == 'Bachelor\\'s' else 0), # <6>\n",
        "                  is_MA=lambda x: x['Education Level'].apply(lambda y: 1 if y == 'Master\\'s' else 0),   # <6>\n",
        "                 \n",
        "          )\n",
        "          .rename(columns={'Years of Experience':'xp'}) #<7>\n",
        "          .drop(['Gender','Education Level','Job Title'],axis=1) #<8>\n",
        "\n",
        "    )\n",
        "\n",
        "#df['Education Level'] = edu_label_encoder.fit_transform(df['Education Level'])\n",
        "#job_title_encoder = LabelEncoder()\n",
        "#df['Job Title']=job_title_encoder.fit_transform(df['Job Title'])\n",
        "show(df)                                                    # <9>"
      ],
      "id": "tbl-salery-df-raw",
      "execution_count": null,
      "outputs": []
    },
    {
      "cell_type": "markdown",
      "metadata": {},
      "source": [
        "1. import the usual suspects\n",
        "2. load the salary dataset\n",
        "3. remove rows with missing values\n",
        "4. remove duplicate entries\n",
        "5. recode gender to is_male\n",
        "6. recode categorical education level to dummies\n",
        "7. rename columns\n",
        "8. drop columns\n",
        "9. peek at the data\n"
      ],
      "id": "1a1036d3"
    }
  ],
  "metadata": {
    "kernelspec": {
      "name": "python3",
      "language": "python",
      "display_name": "Python 3 (ipykernel)",
      "path": "/home/oren/.local/share/jupyter/kernels/python3"
    }
  },
  "nbformat": 4,
  "nbformat_minor": 5
}