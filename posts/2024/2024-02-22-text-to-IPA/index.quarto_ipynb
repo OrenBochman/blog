{
  "cells": [
    {
      "cell_type": "markdown",
      "metadata": {},
      "source": [
        "---\n",
        "date: 2024-02-22\n",
        "title: \"Text to IPA\"\n",
        "categories: [nlp, bash tip,IPA]\n",
        "draft: true\n",
        "---\n",
        "\n",
        "\n",
        "\n",
        "\n",
        "One of the easiest ways to test NLP systens is to listen to its output.\n",
        "\n",
        "Of course the platonic in me would like to imagine a perfect world in which the TTS component is \n",
        "mature and wont inject additional issues into the system.\n",
        "\n",
        "IPA is the international phonetic alphabet. \n",
        "\n",
        "Why don't we use it more - we don't have quick and loop to convert text to IPA\n",
        "and to fix any IPA annotation issues.\n",
        "\n",
        "what is an IPA issue\n",
        "\n",
        "the word **read** can be pronounced differently depending on the tense, these pronunciations are “rēd”, for the present tense and “rĕd” for the past tense and past participle form.\n",
        "\n",
        "clearly the TTS system would need in this case to disambiguate between the two using the context a preprocessing step might annotate the words as `red`` `red`\n",
        "\n",
        "\n",
        "1 read read VERB ??? Tense=Past\n",
        "1 read read VERB ??? Tense=Past\n",
        "\n",
        "\n",
        "anyhow the main point is that we convert text to IPA using espeak-ng\n",
        "\n",
        "\n",
        "```{bash}\n",
        "espeak-ng -v mb-en1 \"Hello World Thanks you very much\" --ipa\n",
        "```\n",
        "\n",
        "\n",
        "A second point is that we can also add user dictionary with entries for words with missing pronunciations.\n",
        "\n",
        "Q1. can we preprocess the text to discover missing pronunciations\n",
        "Q2. can we use an LLM or a web based tool to look up as many of these as possible\n",
        "Q3. can we train a transducer type transformer to convert the rest!\n"
      ],
      "id": "14ebd520"
    }
  ],
  "metadata": {
    "kernelspec": {
      "name": "python3",
      "language": "python",
      "display_name": "Python 3 (ipykernel)",
      "path": "/home/oren/.local/share/jupyter/kernels/python3"
    }
  },
  "nbformat": 4,
  "nbformat_minor": 5
}