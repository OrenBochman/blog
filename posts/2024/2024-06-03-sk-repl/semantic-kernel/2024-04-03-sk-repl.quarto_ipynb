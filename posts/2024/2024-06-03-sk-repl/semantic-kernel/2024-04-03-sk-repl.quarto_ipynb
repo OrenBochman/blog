{
  "cells": [
    {
      "cell_type": "markdown",
      "metadata": {},
      "source": [
        "title: \"Semantic Kernel\"\n",
        "date: 2024-06-08\n",
        "\n",
        "---\n",
        "\n",
        "```python\n",
        "import semantic_kernel as sk\n",
        "from semantic_kernel.connectors.ai.open_ai import AzureChatCompletion, OpenAIChatCompletion\n",
        "import semantic_kernel.ai.open_ai as sk_oai\n",
        "\n",
        "\n",
        "kernel = sk.Kernel()\n",
        "\n",
        "#useAzureOpenAI = False\n",
        "\n",
        "# if useAzureOpenAI:\n",
        "#     deployment, api_key, endpoint = sk.azure_openai_settings_from_dot_env()\n",
        "#     kernel.add_text_completion_service(\"azureopenai\", AzureChatCompletion(deployment, endpoint, api_key))\n",
        "# else:\n",
        "#api_key, org_id = sk.openai_settings_from_dot_env()\n",
        "api_key , org_id = sk_oai.openai_settings_from_dot_env()\n",
        "kernel.add_text_completion_service(\"openai\", OpenAIChatCompletion(\"gpt-3.5-turbo-0301\", api_key, org_id))\n",
        "\n",
        "print(\"You made a kernel!\")\n",
        "```\n"
      ],
      "id": "70a8fa3a"
    },
    {
      "cell_type": "code",
      "metadata": {},
      "source": [
        "import semantic_kernel as sk\n",
        "from semantic_kernel.connectors.ai.hugging_face import HuggingFaceTextCompletion\n",
        "\n",
        "kernel = sk.Kernel()\n",
        "\n",
        "kernel.add_text_completion_service(\"huggingface\", HuggingFaceTextCompletion(\"gpt2\", task=\"text-generation\"))\n",
        "\n",
        "print(\"You made an open source kernel using an open source AI model!\")"
      ],
      "id": "1d87b486",
      "execution_count": null,
      "outputs": []
    }
  ],
  "metadata": {
    "kernelspec": {
      "name": "python3",
      "language": "python",
      "display_name": "Python 3 (ipykernel)",
      "path": "/home/oren/.local/share/jupyter/kernels/python3"
    }
  },
  "nbformat": 4,
  "nbformat_minor": 5
}