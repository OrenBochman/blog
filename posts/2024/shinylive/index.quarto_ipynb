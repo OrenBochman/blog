{
  "cells": [
    {
      "cell_type": "markdown",
      "metadata": {},
      "source": [
        "---\n",
        "title: Sine function\n",
        "format: html\n",
        "filters:\n",
        "  - shinylive\n",
        "jupyter: python3\n",
        "---\n",
        "\n",
        "\n",
        "\n",
        "The plot below allows you to control parameters used in the sine function.\n",
        "Experiment with the _period_, _amplitude_, and _phase shift_ to see how they affect the graph.\n"
      ],
      "id": "ae2bda06"
    },
    {
      "cell_type": "code",
      "metadata": {},
      "source": [
        "#| echo: false\n",
        "#| output: asis\n",
        "import sys\n",
        "sys.path.append('../../../')\n",
        "from helpers.helpers import *\n",
        "\n",
        "include_shiny_folder(\"../../../apps/sine_wave\")"
      ],
      "id": "c3012e0e",
      "execution_count": null,
      "outputs": []
    },
    {
      "cell_type": "markdown",
      "metadata": {},
      "source": [
        "this code shows how to access the Shinylive app in from the apps folder using a helper function from the root dierctory."
      ],
      "id": "e7f2e466"
    }
  ],
  "metadata": {
    "kernelspec": {
      "name": "python3",
      "language": "python",
      "display_name": "Python 3 (ipykernel)",
      "path": "/home/oren/.local/share/jupyter/kernels/python3"
    }
  },
  "nbformat": 4,
  "nbformat_minor": 5
}